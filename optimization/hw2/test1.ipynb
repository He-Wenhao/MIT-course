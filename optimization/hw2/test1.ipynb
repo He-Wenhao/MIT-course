{
 "cells": [
  {
   "cell_type": "code",
   "execution_count": 1,
   "metadata": {},
   "outputs": [],
   "source": [
    "\n",
    "#using Pkg\n",
    "#Pkg.add(\"CSV\")\n",
    "#Pkg.add(\"DataFrames\")\n",
    "#Pkg.add(\"JuMP\")\n",
    "#Pkg.add(\"Gurobi\")\n",
    "\n"
   ]
  },
  {
   "cell_type": "code",
   "execution_count": 2,
   "metadata": {},
   "outputs": [],
   "source": [
    "using CSV, DataFrames, JuMP, Gurobi"
   ]
  },
  {
   "cell_type": "code",
   "execution_count": 3,
   "metadata": {},
   "outputs": [
    {
     "name": "stdout",
     "output_type": "stream",
     "text": [
      "nrow(energy) = 1000\n"
     ]
    },
    {
     "data": {
      "text/plain": [
       "1000"
      ]
     },
     "metadata": {},
     "output_type": "display_data"
    }
   ],
   "source": [
    "energy = CSV.read(\"energy.csv\", DataFrame)\n",
    "@show nrow(energy)\n",
    "#energy"
   ]
  },
  {
   "cell_type": "code",
   "execution_count": 4,
   "metadata": {},
   "outputs": [
    {
     "name": "stdout",
     "output_type": "stream",
     "text": [
      "nrow(capacity) = 20\n"
     ]
    },
    {
     "data": {
      "text/plain": [
       "20"
      ]
     },
     "metadata": {},
     "output_type": "display_data"
    }
   ],
   "source": [
    "capacity = CSV.read(\"capacity.csv\", DataFrame)\n",
    "@show nrow(capacity)\n",
    "#capacity"
   ]
  },
  {
   "cell_type": "code",
   "execution_count": 5,
   "metadata": {},
   "outputs": [
    {
     "data": {
      "text/plain": [
       "20-element Vector{Float64}:\n",
       "  23.0\n",
       "  24.0\n",
       "  30.0\n",
       "   4.0\n",
       "  70.0\n",
       "  87.0\n",
       "  75.0\n",
       " 107.0\n",
       "  43.0\n",
       "  52.0\n",
       "   4.0\n",
       "  20.0\n",
       "  49.0\n",
       "  69.0\n",
       " 141.0\n",
       "  32.0\n",
       "  35.0\n",
       "   4.0\n",
       "  23.0\n",
       " 108.0"
      ]
     },
     "metadata": {},
     "output_type": "display_data"
    }
   ],
   "source": [
    "Mcapacity = Matrix(capacity);\n",
    "Mcapacity = Mcapacity[:,2]\n"
   ]
  },
  {
   "cell_type": "code",
   "execution_count": 6,
   "metadata": {},
   "outputs": [
    {
     "data": {
      "text/plain": [
       "1000×20 Matrix{Float64}:\n",
       " 58.4516  56.4218  53.3182  61.1425  …  58.5737  47.434   60.5322  53.7255\n",
       " 47.1307  49.9741  49.4615  53.4576     45.5567  44.2967  43.7656  51.6316\n",
       " 72.7165  64.8131  62.9752  76.3534     59.1579  56.775   61.0008  60.1781\n",
       " 44.5003  51.6669  45.6587  44.7678     55.7139  41.9219  39.5938  45.9446\n",
       " 48.9771  41.3224  54.4063  53.2036     57.0393  53.6506  41.1886  56.2313\n",
       " 14.4386  19.9577  18.9604  21.8064  …  18.9657  18.891   20.1127  18.9616\n",
       " 72.9008  66.1734  71.4013  64.5653     67.8859  62.7328  65.5753  59.0646\n",
       " 31.1955  29.6268  25.2512  26.9403     32.0769  27.4883  28.1615  26.8298\n",
       " 73.8362  79.5029  72.8443  83.7081     78.4482  65.0861  78.7875  77.2289\n",
       " 74.7685  82.2525  71.9211  75.4779     70.681   75.8865  76.0492  71.2974\n",
       "  ⋮                                  ⋱                             \n",
       " 27.0395  20.4201  21.4507  20.7178     24.9886  20.9023  22.0435  24.2558\n",
       " 32.4131  23.5574  29.1081  27.2125     25.1626  28.5859  23.9509  24.7429\n",
       " 49.252   48.202   37.644   39.6525     38.5999  51.7436  35.4545  45.5827\n",
       " 40.1517  40.6313  45.1388  41.8671     33.4868  37.1271  34.7273  38.6355\n",
       " 60.7006  49.0726  59.1773  46.8141  …  46.9414  63.553   62.0514  59.2827\n",
       " 61.9197  58.9072  52.9093  52.1278     65.1597  59.7548  69.7299  57.9459\n",
       " 42.1334  48.6936  53.7934  63.9949     50.8765  50.4512  49.5936  42.7378\n",
       " 25.9072  33.3283  29.5825  27.0473     28.8434  31.4039  27.9038  28.4074\n",
       " 52.7389  47.9023  51.1686  47.5137     48.5408  61.7873  62.9148  49.6594"
      ]
     },
     "metadata": {},
     "output_type": "display_data"
    }
   ],
   "source": [
    "Menergy = Matrix(energy);\n",
    "Menergy = Menergy[:,2:21]"
   ]
  },
  {
   "cell_type": "code",
   "execution_count": 7,
   "metadata": {},
   "outputs": [
    {
     "name": "stdout",
     "output_type": "stream",
     "text": [
      "Set parameter Username\n",
      "Academic license - for non-commercial use only - expires 2024-10-01\n"
     ]
    }
   ],
   "source": [
    "model = Model(Gurobi.Optimizer)\n",
    "@variable(model, X[1:1000, 1:20]);\n",
    "@objective(model, Min, sum(sum(Menergy[i,j]*X[i,j] for j in 1:20) for i in 1:1000));\n",
    "@constraint(model,a_constraint[i in 1:1000 ,j in 1:20],X[i,j] >= 0 );\n",
    "@constraint(model,b_constraint[i in 1:1000],sum(X[i,j] for j in 1:20) == 1 );\n",
    "@constraint(model,c_constraint[j in 1:20],sum(X[i,j] for i in 1:1000) <= Mcapacity[j] );"
   ]
  },
  {
   "cell_type": "code",
   "execution_count": 8,
   "metadata": {},
   "outputs": [],
   "source": [
    "#println(model)"
   ]
  },
  {
   "cell_type": "code",
   "execution_count": 9,
   "metadata": {},
   "outputs": [
    {
     "name": "stdout",
     "output_type": "stream",
     "text": [
      "Gurobi Optimizer version 10.0.3 build v10.0.3rc0 (mac64[x86])\n",
      "\n",
      "CPU model: Intel(R) Core(TM) i7-6567U CPU @ 3.30GHz\n",
      "Thread count: 2 physical cores, 4 logical processors, using up to 4 threads\n",
      "\n",
      "Optimize a model with 21020 rows, 20000 columns and 60000 nonzeros\n",
      "Model fingerprint: 0x7a0b307d\n",
      "Coefficient statistics:\n",
      "  Matrix range     [1e+00, 1e+00]\n",
      "  Objective range  [7e+00, 2e+02]\n",
      "  Bounds range     [0e+00, 0e+00]\n",
      "  RHS range        [1e+00, 1e+02]\n",
      "Presolve removed 20000 rows and 0 columns\n",
      "Presolve time: 0.07s\n",
      "Presolved: 1020 rows, 20000 columns, 40000 nonzeros\n",
      "\n",
      "Concurrent LP optimizer: dual simplex and barrier\n",
      "Showing barrier log only...\n",
      "\n",
      "Ordering time: 0.00s\n",
      "\n",
      "Barrier performed 0 iterations in 0.30 seconds (0.02 work units)\n",
      "Barrier solve interrupted - model solved by another algorithm\n",
      "\n",
      "\n",
      "Solved with dual simplex\n",
      "Iteration    Objective       Primal Inf.    Dual Inf.      Time\n",
      "     605    4.1416507e+04   0.000000e+00   0.000000e+00      0s\n",
      "\n",
      "Solved in 605 iterations and 0.42 seconds (0.03 work units)\n",
      "Optimal objective  4.141650743e+04\n",
      "\n",
      "User-callback calls 51, time in user-callback 0.02 sec\n"
     ]
    }
   ],
   "source": [
    "optimize!(model)"
   ]
  },
  {
   "cell_type": "code",
   "execution_count": 10,
   "metadata": {},
   "outputs": [
    {
     "data": {
      "text/plain": [
       "41416.507432447295"
      ]
     },
     "metadata": {},
     "output_type": "display_data"
    }
   ],
   "source": [
    "objective_value(model)"
   ]
  },
  {
   "cell_type": "code",
   "execution_count": 11,
   "metadata": {},
   "outputs": [
    {
     "name": "stdout",
     "output_type": "stream",
     "text": [
      "0.0\n",
      "0.0\n",
      "0.0\n",
      "0.0\n",
      "0.0\n",
      "0.0\n",
      "0.0\n",
      "0.0\n",
      "0.0\n",
      "0.0\n",
      "0.0\n",
      "0.0\n",
      "0.0\n",
      "0.0\n",
      "1.0\n",
      "0.0\n",
      "0.0\n",
      "0.0\n",
      "0.0\n",
      "0.0\n"
     ]
    }
   ],
   "source": [
    "i = 10\n",
    "\n",
    "for j in 1:20\n",
    "    println(value(X[i,j]))\n",
    "end\n",
    "#sum(sum(Menergy[i,j]*value(X[i,j]) for j in 20) for i in 1000)"
   ]
  },
  {
   "cell_type": "code",
   "execution_count": 12,
   "metadata": {},
   "outputs": [
    {
     "name": "stderr",
     "output_type": "stream",
     "text": [
      "hello!\n"
     ]
    }
   ],
   "source": [
    "println(stderr, \"hello!\")"
   ]
  },
  {
   "cell_type": "code",
   "execution_count": 13,
   "metadata": {},
   "outputs": [
    {
     "name": "stdout",
     "output_type": "stream",
     "text": [
      "Set parameter Username\n",
      "Academic license - for non-commercial use only - expires 2024-10-01\n"
     ]
    }
   ],
   "source": [
    "model2 = Model(Gurobi.Optimizer)\n",
    "@variable(model2, X2[1:1000, 1:20]);\n",
    "@objective(model2, Min, sum(sum(Menergy[i,j]*X2[i,j] for j in 1:20) for i in 1:1000));\n",
    "@constraint(model2,a_constraint[i in 1:1000 ,j in 1:20],X2[i,j] >= 0 );\n",
    "@constraint(model2,b_constraint[i in 1:1000],sum(X2[i,j] for j in 1:20) == 1 );\n",
    "#@constraint(model2,c_constraint[j in 1:20],sum(X2[i,j] for i in 1:1000) <= Mcapacity[j] );"
   ]
  },
  {
   "cell_type": "code",
   "execution_count": 14,
   "metadata": {},
   "outputs": [
    {
     "name": "stdout",
     "output_type": "stream",
     "text": [
      "Gurobi Optimizer version 10.0.3 build v10.0.3rc0 (mac64[x86])\n",
      "\n",
      "CPU model: Intel(R) Core(TM) i7-6567U CPU @ 3.30GHz\n",
      "Thread count: 2 physical cores, 4 logical processors, using up to 4 threads\n",
      "\n",
      "Optimize a model with 21000 rows, 20000 columns and 40000 nonzeros\n",
      "Model fingerprint: 0xb147ac93\n",
      "Coefficient statistics:\n",
      "  Matrix range     [1e+00, 1e+00]\n",
      "  Objective range  [7e+00, 2e+02]\n",
      "  Bounds range     [0e+00, 0e+00]\n",
      "  RHS range        [1e+00, 1e+00]\n",
      "Presolve removed 21000 rows and 20000 columns\n",
      "Presolve time: 0.02s\n",
      "Presolve: All rows and columns removed\n",
      "Iteration    Objective       Primal Inf.    Dual Inf.      Time\n",
      "       0    4.0883161e+04   0.000000e+00   0.000000e+00      0s\n",
      "\n",
      "Solved in 0 iterations and 0.04 seconds (0.01 work units)\n",
      "Optimal objective  4.088316111e+04\n",
      "\n",
      "User-callback calls 38, time in user-callback 0.00 sec\n"
     ]
    }
   ],
   "source": [
    "optimize!(model2)"
   ]
  },
  {
   "cell_type": "code",
   "execution_count": 20,
   "metadata": {},
   "outputs": [
    {
     "name": "stdout",
     "output_type": "stream",
     "text": [
      "39.0\n"
     ]
    }
   ],
   "source": [
    "cnt = 0\n",
    "\n",
    "for i in 1:100\n",
    "    for j in 1:20\n",
    "        cnt += abs(value(X[i,j]) - value(X2[i,j]))\n",
    "    end\n",
    "end\n",
    "println(cnt/2)"
   ]
  }
 ],
 "metadata": {
  "kernelspec": {
   "display_name": "Julia 1.6.5",
   "language": "julia",
   "name": "julia-1.6"
  },
  "language_info": {
   "file_extension": ".jl",
   "mimetype": "application/julia",
   "name": "julia",
   "version": "1.6.5"
  },
  "orig_nbformat": 4
 },
 "nbformat": 4,
 "nbformat_minor": 2
}
