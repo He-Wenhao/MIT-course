{
 "cells": [
  {
   "cell_type": "code",
   "execution_count": 1,
   "metadata": {},
   "outputs": [],
   "source": [
    "\n",
    "#using Pkg\n",
    "#Pkg.add(\"CSV\")\n",
    "#Pkg.add(\"DataFrames\")\n",
    "#Pkg.add(\"JuMP\")\n",
    "#Pkg.add(\"Gurobi\")\n",
    "\n"
   ]
  },
  {
   "cell_type": "code",
   "execution_count": 1,
   "metadata": {},
   "outputs": [],
   "source": [
    "using CSV, DataFrames, JuMP, Gurobi"
   ]
  },
  {
   "cell_type": "code",
   "execution_count": 2,
   "metadata": {},
   "outputs": [
    {
     "name": "stdout",
     "output_type": "stream",
     "text": [
      "nrow(facilities) = 100\n"
     ]
    },
    {
     "data": {
      "text/html": [
       "<div><div style = \"float: left;\"><span>100×3 DataFrame</span></div><div style = \"float: right;\"><span style = \"font-style: italic;\">75 rows omitted</span></div><div style = \"clear: both;\"></div></div><div class = \"data-frame\" style = \"overflow-x: scroll;\"><table class = \"data-frame\" style = \"margin-bottom: 6px;\"><thead><tr class = \"header\"><th class = \"rowNumber\" style = \"font-weight: bold; text-align: right;\">Row</th><th style = \"text-align: left;\">x</th><th style = \"text-align: left;\">y</th><th style = \"text-align: left;\">supply</th></tr><tr class = \"subheader headerLastRow\"><th class = \"rowNumber\" style = \"font-weight: bold; text-align: right;\"></th><th title = \"Float64\" style = \"text-align: left;\">Float64</th><th title = \"Float64\" style = \"text-align: left;\">Float64</th><th title = \"Float64\" style = \"text-align: left;\">Float64</th></tr></thead><tbody><tr><td class = \"rowNumber\" style = \"font-weight: bold; text-align: right;\">1</td><td style = \"text-align: right;\">0.0285239</td><td style = \"text-align: right;\">1.71448</td><td style = \"text-align: right;\">86.7759</td></tr><tr><td class = \"rowNumber\" style = \"font-weight: bold; text-align: right;\">2</td><td style = \"text-align: right;\">0.508327</td><td style = \"text-align: right;\">2.76107</td><td style = \"text-align: right;\">140.987</td></tr><tr><td class = \"rowNumber\" style = \"font-weight: bold; text-align: right;\">3</td><td style = \"text-align: right;\">3.60514</td><td style = \"text-align: right;\">4.41322</td><td style = \"text-align: right;\">213.104</td></tr><tr><td class = \"rowNumber\" style = \"font-weight: bold; text-align: right;\">4</td><td style = \"text-align: right;\">8.43778</td><td style = \"text-align: right;\">1.25384</td><td style = \"text-align: right;\">102.001</td></tr><tr><td class = \"rowNumber\" style = \"font-weight: bold; text-align: right;\">5</td><td style = \"text-align: right;\">3.76959</td><td style = \"text-align: right;\">5.45553</td><td style = \"text-align: right;\">409.883</td></tr><tr><td class = \"rowNumber\" style = \"font-weight: bold; text-align: right;\">6</td><td style = \"text-align: right;\">4.89495</td><td style = \"text-align: right;\">8.96613</td><td style = \"text-align: right;\">576.407</td></tr><tr><td class = \"rowNumber\" style = \"font-weight: bold; text-align: right;\">7</td><td style = \"text-align: right;\">1.80321</td><td style = \"text-align: right;\">6.49412</td><td style = \"text-align: right;\">205.929</td></tr><tr><td class = \"rowNumber\" style = \"font-weight: bold; text-align: right;\">8</td><td style = \"text-align: right;\">3.25198</td><td style = \"text-align: right;\">0.451999</td><td style = \"text-align: right;\">325.911</td></tr><tr><td class = \"rowNumber\" style = \"font-weight: bold; text-align: right;\">9</td><td style = \"text-align: right;\">4.39766</td><td style = \"text-align: right;\">4.72416</td><td style = \"text-align: right;\">317.815</td></tr><tr><td class = \"rowNumber\" style = \"font-weight: bold; text-align: right;\">10</td><td style = \"text-align: right;\">1.89017</td><td style = \"text-align: right;\">0.70518</td><td style = \"text-align: right;\">201.919</td></tr><tr><td class = \"rowNumber\" style = \"font-weight: bold; text-align: right;\">11</td><td style = \"text-align: right;\">7.30277</td><td style = \"text-align: right;\">9.41614</td><td style = \"text-align: right;\">178.176</td></tr><tr><td class = \"rowNumber\" style = \"font-weight: bold; text-align: right;\">12</td><td style = \"text-align: right;\">2.80674</td><td style = \"text-align: right;\">0.326745</td><td style = \"text-align: right;\">123.018</td></tr><tr><td class = \"rowNumber\" style = \"font-weight: bold; text-align: right;\">13</td><td style = \"text-align: right;\">1.36004</td><td style = \"text-align: right;\">1.57954</td><td style = \"text-align: right;\">273.514</td></tr><tr><td style = \"text-align: right;\">&vellip;</td><td style = \"text-align: right;\">&vellip;</td><td style = \"text-align: right;\">&vellip;</td><td style = \"text-align: right;\">&vellip;</td></tr><tr><td class = \"rowNumber\" style = \"font-weight: bold; text-align: right;\">89</td><td style = \"text-align: right;\">5.60356</td><td style = \"text-align: right;\">2.02375</td><td style = \"text-align: right;\">384.202</td></tr><tr><td class = \"rowNumber\" style = \"font-weight: bold; text-align: right;\">90</td><td style = \"text-align: right;\">5.11611</td><td style = \"text-align: right;\">7.22231</td><td style = \"text-align: right;\">233.272</td></tr><tr><td class = \"rowNumber\" style = \"font-weight: bold; text-align: right;\">91</td><td style = \"text-align: right;\">6.46163</td><td style = \"text-align: right;\">8.62838</td><td style = \"text-align: right;\">822.363</td></tr><tr><td class = \"rowNumber\" style = \"font-weight: bold; text-align: right;\">92</td><td style = \"text-align: right;\">7.29404</td><td style = \"text-align: right;\">8.21634</td><td style = \"text-align: right;\">151.419</td></tr><tr><td class = \"rowNumber\" style = \"font-weight: bold; text-align: right;\">93</td><td style = \"text-align: right;\">9.32679</td><td style = \"text-align: right;\">0.576623</td><td style = \"text-align: right;\">280.075</td></tr><tr><td class = \"rowNumber\" style = \"font-weight: bold; text-align: right;\">94</td><td style = \"text-align: right;\">5.60126</td><td style = \"text-align: right;\">6.18653</td><td style = \"text-align: right;\">222.25</td></tr><tr><td class = \"rowNumber\" style = \"font-weight: bold; text-align: right;\">95</td><td style = \"text-align: right;\">8.68928</td><td style = \"text-align: right;\">3.44486</td><td style = \"text-align: right;\">376.471</td></tr><tr><td class = \"rowNumber\" style = \"font-weight: bold; text-align: right;\">96</td><td style = \"text-align: right;\">4.92007</td><td style = \"text-align: right;\">6.06402</td><td style = \"text-align: right;\">350.741</td></tr><tr><td class = \"rowNumber\" style = \"font-weight: bold; text-align: right;\">97</td><td style = \"text-align: right;\">8.66725</td><td style = \"text-align: right;\">4.20165</td><td style = \"text-align: right;\">202.893</td></tr><tr><td class = \"rowNumber\" style = \"font-weight: bold; text-align: right;\">98</td><td style = \"text-align: right;\">7.86218</td><td style = \"text-align: right;\">0.820935</td><td style = \"text-align: right;\">443.22</td></tr><tr><td class = \"rowNumber\" style = \"font-weight: bold; text-align: right;\">99</td><td style = \"text-align: right;\">2.3704</td><td style = \"text-align: right;\">8.91556</td><td style = \"text-align: right;\">198.227</td></tr><tr><td class = \"rowNumber\" style = \"font-weight: bold; text-align: right;\">100</td><td style = \"text-align: right;\">3.82482</td><td style = \"text-align: right;\">2.29291</td><td style = \"text-align: right;\">273.727</td></tr></tbody></table></div>"
      ],
      "text/latex": [
       "\\begin{tabular}{r|ccc}\n",
       "\t& x & y & supply\\\\\n",
       "\t\\hline\n",
       "\t& Float64 & Float64 & Float64\\\\\n",
       "\t\\hline\n",
       "\t1 & 0.0285239 & 1.71448 & 86.7759 \\\\\n",
       "\t2 & 0.508327 & 2.76107 & 140.987 \\\\\n",
       "\t3 & 3.60514 & 4.41322 & 213.104 \\\\\n",
       "\t4 & 8.43778 & 1.25384 & 102.001 \\\\\n",
       "\t5 & 3.76959 & 5.45553 & 409.883 \\\\\n",
       "\t6 & 4.89495 & 8.96613 & 576.407 \\\\\n",
       "\t7 & 1.80321 & 6.49412 & 205.929 \\\\\n",
       "\t8 & 3.25198 & 0.451999 & 325.911 \\\\\n",
       "\t9 & 4.39766 & 4.72416 & 317.815 \\\\\n",
       "\t10 & 1.89017 & 0.70518 & 201.919 \\\\\n",
       "\t11 & 7.30277 & 9.41614 & 178.176 \\\\\n",
       "\t12 & 2.80674 & 0.326745 & 123.018 \\\\\n",
       "\t13 & 1.36004 & 1.57954 & 273.514 \\\\\n",
       "\t14 & 7.20769 & 6.89029 & 220.618 \\\\\n",
       "\t15 & 1.73416 & 4.09572 & 420.834 \\\\\n",
       "\t16 & 1.30851 & 3.4779 & 89.0694 \\\\\n",
       "\t17 & 7.45106 & 7.51808 & 143.342 \\\\\n",
       "\t18 & 4.20804 & 5.33254 & 220.242 \\\\\n",
       "\t19 & 3.94511 & 9.65428 & 74.6466 \\\\\n",
       "\t20 & 1.08264 & 0.829399 & 542.982 \\\\\n",
       "\t21 & 9.39076 & 8.38054 & 440.66 \\\\\n",
       "\t22 & 3.79656 & 3.82837 & 179.293 \\\\\n",
       "\t23 & 2.75253 & 4.10025 & 316.153 \\\\\n",
       "\t24 & 7.44962 & 9.95071 & 122.891 \\\\\n",
       "\t$\\dots$ & $\\dots$ & $\\dots$ & $\\dots$ \\\\\n",
       "\\end{tabular}\n"
      ],
      "text/plain": [
       "\u001b[1m100×3 DataFrame\u001b[0m\n",
       "\u001b[1m Row \u001b[0m│\u001b[1m x         \u001b[0m\u001b[1m y        \u001b[0m\u001b[1m supply   \u001b[0m\n",
       "     │\u001b[90m Float64   \u001b[0m\u001b[90m Float64  \u001b[0m\u001b[90m Float64  \u001b[0m\n",
       "─────┼───────────────────────────────\n",
       "   1 │ 0.0285239  1.71448    86.7759\n",
       "   2 │ 0.508327   2.76107   140.987\n",
       "   3 │ 3.60514    4.41322   213.104\n",
       "   4 │ 8.43778    1.25384   102.001\n",
       "   5 │ 3.76959    5.45553   409.883\n",
       "   6 │ 4.89495    8.96613   576.407\n",
       "   7 │ 1.80321    6.49412   205.929\n",
       "   8 │ 3.25198    0.451999  325.911\n",
       "  ⋮  │     ⋮         ⋮         ⋮\n",
       "  94 │ 5.60126    6.18653   222.25\n",
       "  95 │ 8.68928    3.44486   376.471\n",
       "  96 │ 4.92007    6.06402   350.741\n",
       "  97 │ 8.66725    4.20165   202.893\n",
       "  98 │ 7.86218    0.820935  443.22\n",
       "  99 │ 2.3704     8.91556   198.227\n",
       " 100 │ 3.82482    2.29291   273.727\n",
       "\u001b[36m                      85 rows omitted\u001b[0m"
      ]
     },
     "metadata": {},
     "output_type": "display_data"
    }
   ],
   "source": [
    "facilities = CSV.read(\"facilities.csv\", DataFrame)\n",
    "@show nrow(facilities)\n",
    "facilities\n",
    "supply = facilities[:,3]\n",
    "supply\n",
    "sup_cor = facilities[:,1:2]\n",
    "sup_cor"
   ]
  },
  {
   "cell_type": "code",
   "execution_count": 10,
   "metadata": {},
   "outputs": [
    {
     "name": "stdout",
     "output_type": "stream",
     "text": [
      "nrow(customers) = 500\n"
     ]
    },
    {
     "data": {
      "text/html": [
       "<div><div style = \"float: left;\"><span>500×2 DataFrame</span></div><div style = \"float: right;\"><span style = \"font-style: italic;\">475 rows omitted</span></div><div style = \"clear: both;\"></div></div><div class = \"data-frame\" style = \"overflow-x: scroll;\"><table class = \"data-frame\" style = \"margin-bottom: 6px;\"><thead><tr class = \"header\"><th class = \"rowNumber\" style = \"font-weight: bold; text-align: right;\">Row</th><th style = \"text-align: left;\">x</th><th style = \"text-align: left;\">y</th></tr><tr class = \"subheader headerLastRow\"><th class = \"rowNumber\" style = \"font-weight: bold; text-align: right;\"></th><th title = \"Float64\" style = \"text-align: left;\">Float64</th><th title = \"Float64\" style = \"text-align: left;\">Float64</th></tr></thead><tbody><tr><td class = \"rowNumber\" style = \"font-weight: bold; text-align: right;\">1</td><td style = \"text-align: right;\">7.37441</td><td style = \"text-align: right;\">2.06318</td></tr><tr><td class = \"rowNumber\" style = \"font-weight: bold; text-align: right;\">2</td><td style = \"text-align: right;\">1.00208</td><td style = \"text-align: right;\">7.29743</td></tr><tr><td class = \"rowNumber\" style = \"font-weight: bold; text-align: right;\">3</td><td style = \"text-align: right;\">3.61792</td><td style = \"text-align: right;\">1.25644</td></tr><tr><td class = \"rowNumber\" style = \"font-weight: bold; text-align: right;\">4</td><td style = \"text-align: right;\">2.27311</td><td style = \"text-align: right;\">2.9264</td></tr><tr><td class = \"rowNumber\" style = \"font-weight: bold; text-align: right;\">5</td><td style = \"text-align: right;\">0.765783</td><td style = \"text-align: right;\">9.5186</td></tr><tr><td class = \"rowNumber\" style = \"font-weight: bold; text-align: right;\">6</td><td style = \"text-align: right;\">2.03323</td><td style = \"text-align: right;\">9.76306</td></tr><tr><td class = \"rowNumber\" style = \"font-weight: bold; text-align: right;\">7</td><td style = \"text-align: right;\">9.92024</td><td style = \"text-align: right;\">1.5894</td></tr><tr><td class = \"rowNumber\" style = \"font-weight: bold; text-align: right;\">8</td><td style = \"text-align: right;\">4.3794</td><td style = \"text-align: right;\">9.87982</td></tr><tr><td class = \"rowNumber\" style = \"font-weight: bold; text-align: right;\">9</td><td style = \"text-align: right;\">5.69553</td><td style = \"text-align: right;\">8.78813</td></tr><tr><td class = \"rowNumber\" style = \"font-weight: bold; text-align: right;\">10</td><td style = \"text-align: right;\">0.269264</td><td style = \"text-align: right;\">1.57677</td></tr><tr><td class = \"rowNumber\" style = \"font-weight: bold; text-align: right;\">11</td><td style = \"text-align: right;\">6.93113</td><td style = \"text-align: right;\">3.93666</td></tr><tr><td class = \"rowNumber\" style = \"font-weight: bold; text-align: right;\">12</td><td style = \"text-align: right;\">0.422377</td><td style = \"text-align: right;\">3.01983</td></tr><tr><td class = \"rowNumber\" style = \"font-weight: bold; text-align: right;\">13</td><td style = \"text-align: right;\">5.40071</td><td style = \"text-align: right;\">4.62464</td></tr><tr><td style = \"text-align: right;\">&vellip;</td><td style = \"text-align: right;\">&vellip;</td><td style = \"text-align: right;\">&vellip;</td></tr><tr><td class = \"rowNumber\" style = \"font-weight: bold; text-align: right;\">489</td><td style = \"text-align: right;\">4.06083</td><td style = \"text-align: right;\">2.96783</td></tr><tr><td class = \"rowNumber\" style = \"font-weight: bold; text-align: right;\">490</td><td style = \"text-align: right;\">8.38617</td><td style = \"text-align: right;\">5.60031</td></tr><tr><td class = \"rowNumber\" style = \"font-weight: bold; text-align: right;\">491</td><td style = \"text-align: right;\">5.29191</td><td style = \"text-align: right;\">2.01643</td></tr><tr><td class = \"rowNumber\" style = \"font-weight: bold; text-align: right;\">492</td><td style = \"text-align: right;\">9.17958</td><td style = \"text-align: right;\">4.27792</td></tr><tr><td class = \"rowNumber\" style = \"font-weight: bold; text-align: right;\">493</td><td style = \"text-align: right;\">9.05891</td><td style = \"text-align: right;\">6.27818</td></tr><tr><td class = \"rowNumber\" style = \"font-weight: bold; text-align: right;\">494</td><td style = \"text-align: right;\">9.62758</td><td style = \"text-align: right;\">3.45352</td></tr><tr><td class = \"rowNumber\" style = \"font-weight: bold; text-align: right;\">495</td><td style = \"text-align: right;\">7.81246</td><td style = \"text-align: right;\">5.23359</td></tr><tr><td class = \"rowNumber\" style = \"font-weight: bold; text-align: right;\">496</td><td style = \"text-align: right;\">2.79653</td><td style = \"text-align: right;\">9.93115</td></tr><tr><td class = \"rowNumber\" style = \"font-weight: bold; text-align: right;\">497</td><td style = \"text-align: right;\">7.54871</td><td style = \"text-align: right;\">8.92707</td></tr><tr><td class = \"rowNumber\" style = \"font-weight: bold; text-align: right;\">498</td><td style = \"text-align: right;\">2.98117</td><td style = \"text-align: right;\">1.60645</td></tr><tr><td class = \"rowNumber\" style = \"font-weight: bold; text-align: right;\">499</td><td style = \"text-align: right;\">8.974</td><td style = \"text-align: right;\">1.8827</td></tr><tr><td class = \"rowNumber\" style = \"font-weight: bold; text-align: right;\">500</td><td style = \"text-align: right;\">0.593341</td><td style = \"text-align: right;\">4.24671</td></tr></tbody></table></div>"
      ],
      "text/latex": [
       "\\begin{tabular}{r|cc}\n",
       "\t& x & y\\\\\n",
       "\t\\hline\n",
       "\t& Float64 & Float64\\\\\n",
       "\t\\hline\n",
       "\t1 & 7.37441 & 2.06318 \\\\\n",
       "\t2 & 1.00208 & 7.29743 \\\\\n",
       "\t3 & 3.61792 & 1.25644 \\\\\n",
       "\t4 & 2.27311 & 2.9264 \\\\\n",
       "\t5 & 0.765783 & 9.5186 \\\\\n",
       "\t6 & 2.03323 & 9.76306 \\\\\n",
       "\t7 & 9.92024 & 1.5894 \\\\\n",
       "\t8 & 4.3794 & 9.87982 \\\\\n",
       "\t9 & 5.69553 & 8.78813 \\\\\n",
       "\t10 & 0.269264 & 1.57677 \\\\\n",
       "\t11 & 6.93113 & 3.93666 \\\\\n",
       "\t12 & 0.422377 & 3.01983 \\\\\n",
       "\t13 & 5.40071 & 4.62464 \\\\\n",
       "\t14 & 3.31994 & 6.63634 \\\\\n",
       "\t15 & 7.00843 & 8.25745 \\\\\n",
       "\t16 & 1.0516 & 6.43311 \\\\\n",
       "\t17 & 1.8734 & 2.91631 \\\\\n",
       "\t18 & 4.88349 & 7.71086 \\\\\n",
       "\t19 & 7.44374 & 6.9177 \\\\\n",
       "\t20 & 7.70014 & 8.71438 \\\\\n",
       "\t21 & 7.34662 & 9.97953 \\\\\n",
       "\t22 & 2.50471 & 4.78966 \\\\\n",
       "\t23 & 8.10906 & 6.06978 \\\\\n",
       "\t24 & 2.53929 & 8.03083 \\\\\n",
       "\t$\\dots$ & $\\dots$ & $\\dots$ \\\\\n",
       "\\end{tabular}\n"
      ],
      "text/plain": [
       "\u001b[1m500×2 DataFrame\u001b[0m\n",
       "\u001b[1m Row \u001b[0m│\u001b[1m x        \u001b[0m\u001b[1m y       \u001b[0m\n",
       "     │\u001b[90m Float64  \u001b[0m\u001b[90m Float64 \u001b[0m\n",
       "─────┼───────────────────\n",
       "   1 │ 7.37441   2.06318\n",
       "   2 │ 1.00208   7.29743\n",
       "   3 │ 3.61792   1.25644\n",
       "   4 │ 2.27311   2.9264\n",
       "   5 │ 0.765783  9.5186\n",
       "   6 │ 2.03323   9.76306\n",
       "   7 │ 9.92024   1.5894\n",
       "   8 │ 4.3794    9.87982\n",
       "  ⋮  │    ⋮         ⋮\n",
       " 494 │ 9.62758   3.45352\n",
       " 495 │ 7.81246   5.23359\n",
       " 496 │ 2.79653   9.93115\n",
       " 497 │ 7.54871   8.92707\n",
       " 498 │ 2.98117   1.60645\n",
       " 499 │ 8.974     1.8827\n",
       " 500 │ 0.593341  4.24671\n",
       "\u001b[36m         485 rows omitted\u001b[0m"
      ]
     },
     "metadata": {},
     "output_type": "display_data"
    }
   ],
   "source": [
    "customers = CSV.read(\"customers.csv\", DataFrame)\n",
    "@show nrow(customers)\n",
    "customers\n",
    "demand = customers[:,3]\n",
    "demand\n",
    "dem_cor = customers[:,1:2]\n",
    "dem_cor"
   ]
  },
  {
   "cell_type": "code",
   "execution_count": 24,
   "metadata": {},
   "outputs": [
    {
     "data": {
      "text/plain": [
       "100×500 Matrix{Float64}:\n",
       " 7.35416   5.6672   3.6185    2.55087  …  2.95463  8.94706   2.59445\n",
       " 6.90146   4.56316  3.45448   1.77251     2.72912  8.51112   1.48807\n",
       " 4.44186   3.88518  3.15681   1.99623     2.87529  5.93534   3.0164\n",
       " 1.33633   9.582    4.81987   6.38754     5.46799  0.826434  8.39598\n",
       " 4.95003   3.32442  4.20184   2.9387      3.929    6.31277   3.3985\n",
       " 7.33475   4.23545  7.81475   6.58425  …  7.60444  8.17397   6.38567\n",
       " 7.1184    1.13452  5.54315   3.59853     5.02762  8.52558   2.55238\n",
       " 4.4261    7.2057   0.883758  2.66099     1.18579  5.89817   4.63337\n",
       " 3.99273   4.26049  3.55431   2.7831      3.42441  5.38672   3.83416\n",
       " 5.64988   6.65181  1.81356   2.25399     1.41513  7.18103   3.77149\n",
       " ⋮                                     ⋱                     \n",
       " 6.15368   6.35871  7.87109   7.29337     7.89249  6.55265   7.78828\n",
       " 2.4539   10.6991   5.7492    7.43477     6.42863  1.35288   9.47326\n",
       " 4.48844   4.73145  5.31408   4.65886     5.27655  5.46794   5.37049\n",
       " 1.90734   8.59858  5.5234    6.43709     5.99686  1.5879    8.13555\n",
       " 4.69367   4.10756  4.98081   4.10501  …  4.86099  5.8239    4.69289\n",
       " 2.4989    8.26672  5.84552   6.52007     6.25032  2.33916   8.07403\n",
       " 1.33458   9.43431  4.26655   5.9725      4.94381  1.53736   8.03567\n",
       " 8.485     2.11912  7.76006   5.98995     7.33458  9.64721   4.99561\n",
       " 3.55702   5.74571  1.05693   1.67605     1.08765  5.16549   3.77621"
      ]
     },
     "metadata": {},
     "output_type": "display_data"
    }
   ],
   "source": [
    "cost = [sqrt((sup_cor[i,1]-dem_cor[j,1])^2+(sup_cor[i,2]-dem_cor[j,2])^2) for j in 1:500 for i in 1:100]\n",
    "cost = reshape(cost,(100,500))\n"
   ]
  },
  {
   "cell_type": "code",
   "execution_count": 40,
   "metadata": {},
   "outputs": [
    {
     "name": "stdout",
     "output_type": "stream",
     "text": [
      "Set parameter Username\n",
      "Academic license - for non-commercial use only - expires 2024-10-01\n",
      "Gurobi Optimizer version 10.0.3 build v10.0.3rc0 (mac64[x86])\n",
      "\n",
      "CPU model: Intel(R) Core(TM) i7-6567U CPU @ 3.30GHz\n",
      "Thread count: 2 physical cores, 4 logical processors, using up to 4 threads\n",
      "\n",
      "Optimize a model with 50600 rows, 50000 columns and 150000 nonzeros\n",
      "Model fingerprint: 0x212be045\n",
      "Coefficient statistics:\n",
      "  Matrix range     [1e+00, 1e+00]\n",
      "  Objective range  [2e-02, 1e+01]\n",
      "  Bounds range     [0e+00, 0e+00]\n",
      "  RHS range        [5e-01, 1e+03]\n",
      "Presolve removed 50000 rows and 0 columns\n",
      "Presolve time: 0.08s\n",
      "Presolved: 600 rows, 50000 columns, 100000 nonzeros\n",
      "\n",
      "Concurrent LP optimizer: dual simplex and barrier\n",
      "Showing barrier log only...\n",
      "\n",
      "Ordering time: 0.00s\n",
      "\n",
      "Barrier statistics:\n",
      " AA' NZ     : 5.000e+04\n",
      " Factor NZ  : 6.521e+04 (roughly 20 MB of memory)\n",
      " Factor Ops : 7.808e+06 (less than 1 second per iteration)\n",
      " Threads    : 1\n",
      "\n",
      "                  Objective                Residual\n",
      "Iter       Primal          Dual         Primal    Dual     Compl     Time\n",
      "   0   1.36188104e+07  0.00000000e+00  2.55e+04 0.00e+00  1.67e+02     0s\n",
      "   1   1.01559253e+06 -4.52749007e+04  2.40e+03 3.55e-15  1.44e+01     0s\n",
      "   2   1.07616675e+05 -1.79592627e+04  9.68e+01 3.55e-15  1.35e+00     0s\n",
      "   3   4.89263173e+04  1.33014629e+04  5.81e+00 3.55e-15  3.53e-01     0s\n",
      "   4   3.41772230e+04  1.92046505e+04  1.17e+00 3.55e-15  1.48e-01     0s\n",
      "   5   3.08551305e+04  2.08697256e+04  7.23e-01 3.55e-15  9.88e-02     0s\n",
      "\n",
      "Barrier performed 5 iterations in 0.27 seconds (0.09 work units)\n",
      "Barrier solve interrupted - model solved by another algorithm\n",
      "\n",
      "\n",
      "Solved with dual simplex\n",
      "Iteration    Objective       Primal Inf.    Dual Inf.      Time\n",
      "    4924    2.3274338e+04   0.000000e+00   0.000000e+00      0s\n",
      "\n",
      "Solved in 4924 iterations and 0.30 seconds (0.11 work units)\n",
      "Optimal objective  2.327433843e+04\n",
      "\n",
      "User-callback calls 83, time in user-callback 0.00 sec\n"
     ]
    }
   ],
   "source": [
    "model = Model(Gurobi.Optimizer)\n",
    "@variable(model, X[1:100, 1:500]);\n",
    "@objective(model, Min, sum(sum(cost[i,j]*X[i,j] for j in 1:500) for i in 1:100));\n",
    "@constraint(model,a_constraint[i in 1:100 ,j in 1:500],X[i,j] >= 0 );\n",
    "@constraint(model,d_constraint[j in 1:500],sum(X[i,j] for i in 1:100) >= demand[j] );\n",
    "@constraint(model,s_constraint[i in 1:100],sum(X[i,j] for j in 1:500) <= supply[i] );\n",
    "optimize!(model)"
   ]
  },
  {
   "cell_type": "code",
   "execution_count": 27,
   "metadata": {},
   "outputs": [
    {
     "data": {
      "text/plain": [
       "23274.33843049142"
      ]
     },
     "metadata": {},
     "output_type": "display_data"
    }
   ],
   "source": [
    "objective_value(model)"
   ]
  },
  {
   "cell_type": "code",
   "execution_count": 39,
   "metadata": {},
   "outputs": [
    {
     "name": "stdout",
     "output_type": "stream",
     "text": [
      "220"
     ]
    }
   ],
   "source": [
    "cnt = 0\n",
    "for j in 1:500\n",
    "    # find the nearest\n",
    "    cj = cost[:,j]\n",
    "    mVal,i = findmin(cj)\n",
    "    cost_tmp = abs(value(X[i,j]) - demand[j])\n",
    "    if cost_tmp < 1e-6\n",
    "        cnt+=1\n",
    "    end\n",
    "end\n",
    "print(cnt)"
   ]
  },
  {
   "cell_type": "code",
   "execution_count": 12,
   "metadata": {},
   "outputs": [
    {
     "name": "stderr",
     "output_type": "stream",
     "text": [
      "hello!\n"
     ]
    }
   ],
   "source": [
    "println(stderr, \"hello!\")"
   ]
  },
  {
   "cell_type": "code",
   "execution_count": 13,
   "metadata": {},
   "outputs": [
    {
     "name": "stdout",
     "output_type": "stream",
     "text": [
      "Set parameter Username\n",
      "Academic license - for non-commercial use only - expires 2024-10-01\n"
     ]
    }
   ],
   "source": [
    "model2 = Model(Gurobi.Optimizer)\n",
    "@variable(model2, X2[1:1000, 1:20]);\n",
    "@objective(model2, Min, sum(sum(Menergy[i,j]*X2[i,j] for j in 1:20) for i in 1:1000));\n",
    "@constraint(model2,a_constraint[i in 1:1000 ,j in 1:20],X2[i,j] >= 0 );\n",
    "@constraint(model2,b_constraint[i in 1:1000],sum(X2[i,j] for j in 1:20) == 1 );\n",
    "#@constraint(model2,c_constraint[j in 1:20],sum(X2[i,j] for i in 1:1000) <= Mcapacity[j] );"
   ]
  },
  {
   "cell_type": "code",
   "execution_count": 14,
   "metadata": {},
   "outputs": [
    {
     "name": "stdout",
     "output_type": "stream",
     "text": [
      "Gurobi Optimizer version 10.0.3 build v10.0.3rc0 (mac64[x86])\n",
      "\n",
      "CPU model: Intel(R) Core(TM) i7-6567U CPU @ 3.30GHz\n",
      "Thread count: 2 physical cores, 4 logical processors, using up to 4 threads\n",
      "\n",
      "Optimize a model with 21000 rows, 20000 columns and 40000 nonzeros\n",
      "Model fingerprint: 0xb147ac93\n",
      "Coefficient statistics:\n",
      "  Matrix range     [1e+00, 1e+00]\n",
      "  Objective range  [7e+00, 2e+02]\n",
      "  Bounds range     [0e+00, 0e+00]\n",
      "  RHS range        [1e+00, 1e+00]\n",
      "Presolve removed 21000 rows and 20000 columns\n",
      "Presolve time: 0.02s\n",
      "Presolve: All rows and columns removed\n",
      "Iteration    Objective       Primal Inf.    Dual Inf.      Time\n",
      "       0    4.0883161e+04   0.000000e+00   0.000000e+00      0s\n",
      "\n",
      "Solved in 0 iterations and 0.04 seconds (0.01 work units)\n",
      "Optimal objective  4.088316111e+04\n",
      "\n",
      "User-callback calls 38, time in user-callback 0.00 sec\n"
     ]
    }
   ],
   "source": [
    "optimize!(model2)"
   ]
  },
  {
   "cell_type": "code",
   "execution_count": 20,
   "metadata": {},
   "outputs": [
    {
     "name": "stdout",
     "output_type": "stream",
     "text": [
      "39.0\n"
     ]
    }
   ],
   "source": [
    "cnt = 0\n",
    "\n",
    "for i in 1:100\n",
    "    for j in 1:20\n",
    "        cnt += abs(value(X[i,j]) - value(X2[i,j]))\n",
    "    end\n",
    "end\n",
    "println(cnt/2)"
   ]
  }
 ],
 "metadata": {
  "kernelspec": {
   "display_name": "Julia 1.6.5",
   "language": "julia",
   "name": "julia-1.6"
  },
  "language_info": {
   "file_extension": ".jl",
   "mimetype": "application/julia",
   "name": "julia",
   "version": "1.6.5"
  },
  "orig_nbformat": 4
 },
 "nbformat": 4,
 "nbformat_minor": 2
}
