{
 "cells": [
  {
   "cell_type": "markdown",
   "metadata": {},
   "source": []
  },
  {
   "cell_type": "code",
   "execution_count": 1,
   "metadata": {},
   "outputs": [],
   "source": [
    "# test activated or not\n",
    "def is_acti(acti_lst,cord):\n",
    "    flag = 0\n",
    "    for block in acti_lst:\n",
    "        ac_y_cor = (block-1)//4\n",
    "        ac_x_cor = (block-1)%4\n",
    "        x_l = 1/6*(1+ac_x_cor)\n",
    "        x_h = 1/6*(2+ac_x_cor)\n",
    "        y_l = 1/6*(1+ac_y_cor)\n",
    "        y_h = 1/6*(2+ac_y_cor)\n",
    "        if cord[0] >= x_l and cord[0] <= x_h and cord[1] >= y_l and cord[1] <= y_h:\n",
    "            flag = 1\n",
    "    return flag"
   ]
  },
  {
   "cell_type": "code",
   "execution_count": 52,
   "metadata": {},
   "outputs": [
    {
     "data": {
      "image/png": "[encoded data removed]",
      "text/plain": [
       "<Figure size 432x288 with 2 Axes>"
      ]
     },
     "metadata": {
      "needs_background": "light"
     },
     "output_type": "display_data"
    }
   ],
   "source": [
    "import numpy as np\n",
    "import matplotlib.pyplot as plt\n",
    "\n",
    "method = 'GS'\n",
    "assert method == 'GS' or method == 'Jacobi'\n",
    "# Grid parameters\n",
    "N = 25-1  # Size of the grid (N-1 x N-1)\n",
    "L = 1.0  # Length of the domain\n",
    "dx = L / N  # Grid spacing\n",
    "x = np.linspace(0, L, N + 1)  # x-coordinates\n",
    "y = np.linspace(0, L, N + 1)  # y-coordinates\n",
    "act_lst = [1,7,14,16]\n",
    "\n",
    "# set f\n",
    "f = np.zeros((N + 1, N + 1))\n",
    "for i in range(0,N+1):\n",
    "    for j in range(0,N+1):\n",
    "        if is_acti(act_lst,(i*dx,j*dx)):\n",
    "        #if i<2:\n",
    "            f[i,j] = 1\n",
    "\n",
    "# Initialize the grid and boundary conditions\n",
    "u = np.zeros((N + 1, N + 1))\n",
    "u_new = np.copy(u)\n",
    "u[0, :] = 0.0  # Boundary condition: u(x, 0) = 0\n",
    "u[-1, :] = 0.0  # Boundary condition: u(x, L) = 0\n",
    "u[:, 0] = 0.0  # Boundary condition: u(0, y) = 0\n",
    "u[:, -1] = 0.0  # Boundary condition: u(L, y) = 0\n",
    "\n",
    "# Number of iterations\n",
    "iterations = 300\n",
    "\n",
    "# Relaxation parameter (omega)\n",
    "omega = 1\n",
    "\n",
    "# Jacobi iteration with relaxation\n",
    "for _ in range(iterations):\n",
    "    for i in range(1, N):\n",
    "        for j in range(1, N):\n",
    "            if method == 'Jacobi':\n",
    "                u_new[i, j] = (1 - omega) * u[i, j] + (omega / 4) * (\n",
    "                u[i + 1, j] + u[i - 1, j] + u[i, j + 1] + u[i, j - 1] + f[i,j]*(dx**2)) \n",
    "            if method == 'GS':\n",
    "                u_new[i, j] = (1 - omega) * u[i, j] + (omega / 4) * (\n",
    "                u[i + 1, j] + u_new[i - 1, j] + u[i, j + 1] + u_new[i, j - 1] + f[i,j]*(dx**2)) \n",
    "                \n",
    "    u, u_new = u_new, u\n",
    "\n",
    "# Plot the solution\n",
    "X, Y = np.meshgrid(x, y)\n",
    "plt.contourf(X, Y, u, levels=20, cmap='viridis')\n",
    "plt.colorbar()\n",
    "plt.title(\"Solution of Poisson's Equation with Relaxation (Jacobi Method)\")\n",
    "plt.xlabel(\"j-axis\")\n",
    "plt.ylabel(\"i-axis\")\n",
    "plt.show()\n"
   ]
  },
  {
   "cell_type": "code",
   "execution_count": 53,
   "metadata": {},
   "outputs": [
    {
     "name": "stdout",
     "output_type": "stream",
     "text": [
      "\n",
      "Gradient on the left boundary (j = 0):\n",
      "[-0.          0.01218417  0.02426034  0.03587945  0.04632985  0.05488432\n",
      "  0.06083544  0.06393579  0.0644587   0.06312989  0.0606809   0.05780875\n",
      "  0.05482042  0.05172878  0.04842216  0.04478362  0.04074973  0.03632396\n",
      "  0.03156206  0.02654637  0.02136069  0.01607405  0.01073474  0.00537173\n",
      " -0.        ]\n",
      "\n",
      "Gradient on the right boundary (j = L):\n",
      "[-0.          0.00710492  0.01438734  0.02201717  0.03013939  0.03882822\n",
      "  0.04799486  0.05724959  0.06583454  0.07299798  0.07804144  0.08076095\n",
      "  0.08149332  0.08100438  0.07994885  0.07868347  0.07682427  0.07368601\n",
      "  0.06846581  0.06077975  0.05077159  0.03906413  0.02631866  0.01319513\n",
      " -0.        ]\n",
      "\n",
      "Gradient on the bottom boundary (i = 0):\n",
      "[-0.          0.01217454  0.02422181  0.03577382  0.04610126  0.05446274\n",
      "  0.06014409  0.06290426  0.06304296  0.06133815  0.0586012   0.05562897\n",
      "  0.05282854  0.05028221  0.047885    0.04544258  0.0427328   0.0395492\n",
      "  0.03573479  0.03120595  0.02596157  0.02007561  0.0136772   0.00692739\n",
      " -0.        ]\n",
      "Gradient on the top boundary (i = L):\n",
      "[0.         0.00536753 0.0107528  0.01616545 0.0215996  0.02702408\n",
      " 0.03237269 0.03753984 0.0423922  0.04680758 0.0507357  0.05424237\n",
      " 0.05752455 0.06088888 0.06466242 0.0689461  0.07299743 0.07416093\n",
      " 0.07150742 0.06483316 0.05427728 0.04071888 0.02679009 0.01324138\n",
      " 0.        ]\n"
     ]
    }
   ],
   "source": [
    "# Initialize arrays to store gradient values on each boundary\n",
    "gradient_top = np.zeros(N + 1)\n",
    "gradient_bottom = np.zeros(N + 1)\n",
    "gradient_left = np.zeros(N + 1)\n",
    "gradient_right = np.zeros(N + 1)\n",
    "\n",
    "\n",
    "for i in range(N + 1):\n",
    "    gradient_right[i] = -(3*u[i, -1] - 4 * u[i, -2] +  u[i, -3]) / (2 * dx)\n",
    "    \n",
    "\n",
    "\n",
    "for j in range(N + 1):\n",
    "    gradient_top[j] =(3*u[-3, j] - 4 * u[-2, j] +  u[-1, j]) / (2 * dx)\n",
    "\n",
    "\n",
    "\n",
    "for i in range(N + 1):\n",
    "    gradient_left[i] = -(3 * u[i, 0] - 4 * u[i, 1] + u[i, 2]) / (2 * dx)\n",
    "\n",
    "\n",
    "for j in range(N + 1):\n",
    "    gradient_bottom[j] = -(3 * u[0, j] - 4 * u[1, j] + u[2, j]) / (2 * dx)\n",
    "\n",
    "\n",
    "\n",
    "\n",
    "# Print the gradient values\n",
    "\n",
    "print(\"\\nGradient on the left boundary (j = 0):\")\n",
    "print(gradient_left)\n",
    "\n",
    "print(\"\\nGradient on the right boundary (j = L):\")\n",
    "print(gradient_right)\n",
    "\n",
    "\n",
    "print(\"\\nGradient on the bottom boundary (i = 0):\")\n",
    "print(gradient_bottom)\n",
    "\n",
    "print(\"Gradient on the top boundary (i = L):\")\n",
    "print(gradient_top)\n"
   ]
  }
 ],
 "metadata": {
  "kernelspec": {
   "display_name": "base",
   "language": "python",
   "name": "python3"
  },
  "language_info": {
   "codemirror_mode": {
    "name": "ipython",
    "version": 3
   },
   "file_extension": ".py",
   "mimetype": "text/x-python",
   "name": "python",
   "nbconvert_exporter": "python",
   "pygments_lexer": "ipython3",
   "version": "3.8.8"
  },
  "orig_nbformat": 4
 },
 "nbformat": 4,
 "nbformat_minor": 2
}
