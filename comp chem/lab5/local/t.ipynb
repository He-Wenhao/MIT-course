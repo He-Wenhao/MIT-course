{
 "cells": [
  {
   "cell_type": "code",
   "execution_count": 4,
   "metadata": {},
   "outputs": [
    {
     "name": "stdout",
     "output_type": "stream",
     "text": [
      "For n=3: -78.07446075648421\n",
      "For n=4: -78.06788102584865\n"
     ]
    }
   ],
   "source": [
    "def E(n, values):\n",
    "    e_n_minus_1 = values[n-2]\n",
    "    e_n = values[n-1]\n",
    "    denominator = 1 - (1 - 1/n)**3\n",
    "    if denominator == 0:\n",
    "        raise ValueError(\"Denominator is zero.\")\n",
    "    result = e_n_minus_1 + (e_n - e_n_minus_1) / denominator\n",
    "    return result\n",
    "\n",
    "values = [0,-78.0398083244, -78.0641933692, -78.0663252957]\n",
    "\n",
    "# Calculate the values for n = 3 and n = 4\n",
    "result_n3 = E(3, values)\n",
    "result_n4 = E(4, values)\n",
    "\n",
    "print(f\"For n=3: {result_n3}\")\n",
    "print(f\"For n=4: {result_n4}\")\n"
   ]
  },
  {
   "cell_type": "code",
   "execution_count": 5,
   "metadata": {},
   "outputs": [
    {
     "name": "stdout",
     "output_type": "stream",
     "text": [
      "For n=3: -78.07446075648421\n",
      "For n=4: -78.06788102584865\n"
     ]
    }
   ],
   "source": [
    "def E(n, values):\n",
    "    if n > len(values):\n",
    "        raise ValueError(f\"Value for E({n}) not available in the list.\")\n",
    "    \n",
    "    e_n_minus_1 = values[n-2]  # E(n-1)\n",
    "    e_n = values[n-1]  # E(n)\n",
    "    \n",
    "    denominator = 1 - (1 - 1/n)**3\n",
    "    if denominator == 0:\n",
    "        raise ValueError(\"Denominator is zero.\")\n",
    "    \n",
    "    result = e_n_minus_1 + (e_n - e_n_minus_1) / denominator\n",
    "    return result\n",
    "\n",
    "values = [0, -78.0398083244, -78.0641933692, -78.0663252957]\n",
    "\n",
    "# Calculate the values for n = 3 and n = 4\n",
    "result_n3 = E(3, values)\n",
    "result_n4 = E(4, values)\n",
    "\n",
    "print(f\"For n=3: {result_n3}\")\n",
    "print(f\"For n=4: {result_n4}\")\n"
   ]
  }
 ],
 "metadata": {
  "kernelspec": {
   "display_name": "base",
   "language": "python",
   "name": "python3"
  },
  "language_info": {
   "codemirror_mode": {
    "name": "ipython",
    "version": 3
   },
   "file_extension": ".py",
   "mimetype": "text/x-python",
   "name": "python",
   "nbconvert_exporter": "python",
   "pygments_lexer": "ipython3",
   "version": "3.8.8"
  },
  "orig_nbformat": 4
 },
 "nbformat": 4,
 "nbformat_minor": 2
}
