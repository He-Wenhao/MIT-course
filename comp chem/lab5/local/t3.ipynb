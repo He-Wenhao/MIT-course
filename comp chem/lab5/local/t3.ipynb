{
 "cells": [
  {
   "cell_type": "code",
   "execution_count": 1,
   "metadata": {},
   "outputs": [
    {
     "name": "stdout",
     "output_type": "stream",
     "text": [
      "STO-3G: -11.141195 kcal/mol\n",
      "6-31Gs: -6.507946 kcal/mol\n",
      "6-31G: -0.000628 kcal/mol\n",
      "6-311++Gss: -4.631619 kcal/mol\n"
     ]
    }
   ],
   "source": [
    "hartree_to_kcal_per_mol = 627.509\n",
    "\n",
    "energies_hartree = {\n",
    "    \"STO-3G\": -0.017754637112,\n",
    "    \"6-31Gs\": -0.010371080184,\n",
    "    \"6-31G\": -0.000001001096,\n",
    "    \"6-311++Gss\": -0.007380960741\n",
    "}\n",
    "\n",
    "energies_kcal_per_mol = {method: energy * hartree_to_kcal_per_mol for method, energy in energies_hartree.items()}\n",
    "\n",
    "for method, energy in energies_kcal_per_mol.items():\n",
    "    print(f\"{method}: {energy:.6f} kcal/mol\")\n"
   ]
  }
 ],
 "metadata": {
  "kernelspec": {
   "display_name": "base",
   "language": "python",
   "name": "python3"
  },
  "language_info": {
   "codemirror_mode": {
    "name": "ipython",
    "version": 3
   },
   "file_extension": ".py",
   "mimetype": "text/x-python",
   "name": "python",
   "nbconvert_exporter": "python",
   "pygments_lexer": "ipython3",
   "version": "3.8.8"
  },
  "orig_nbformat": 4
 },
 "nbformat": 4,
 "nbformat_minor": 2
}
