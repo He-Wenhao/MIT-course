{
 "cells": [
  {
   "cell_type": "code",
   "execution_count": 1,
   "metadata": {},
   "outputs": [
    {
     "name": "stdout",
     "output_type": "stream",
     "text": [
      "First Peak: (3, 3)\n",
      "First Minima after First Peak: (7, -3)\n",
      "Second Peak: None\n",
      "Second Minima after Second Peak: None\n"
     ]
    }
   ],
   "source": [
    "def find_peaks_and_minima(x_lst, y_lst):\n",
    "    # Calculate differences\n",
    "    dy = [y_lst[i+1] - y_lst[i] for i in range(len(y_lst)-1)]\n",
    "\n",
    "    # Initialize lists for peaks and minima\n",
    "    peaks = []\n",
    "    minima = []\n",
    "\n",
    "    # Traverse the list to identify peaks and minima\n",
    "    for i in range(1, len(dy)):\n",
    "        # Peak: previous value is positive, current value is negative\n",
    "        if dy[i-1] > 0 and dy[i] < 0:\n",
    "            peaks.append((x_lst[i], y_lst[i]))\n",
    "        # Minimum: previous value is negative, current value is positive\n",
    "        elif dy[i-1] < 0 and dy[i] > 0:\n",
    "            minima.append((x_lst[i], y_lst[i]))\n",
    "\n",
    "    return peaks, minima\n",
    "\n",
    "# Sample data\n",
    "x_lst = [1, 2, 3, 4, 5, 6, 7, 8, 9, 10]\n",
    "y_lst = [0, 1, 3, 1, 0, -1, -3, -1, 0, 1]\n",
    "\n",
    "peaks, minima = find_peaks_and_minima(x_lst, y_lst)\n",
    "\n",
    "first_peak = peaks[0] if len(peaks) > 0 else None\n",
    "first_minima = minima[0] if len(minima) > 0 else None\n",
    "second_peak = peaks[1] if len(peaks) > 1 else None\n",
    "second_minima = minima[1] if len(minima) > 1 else None\n",
    "\n",
    "print(\"First Peak:\", first_peak)\n",
    "print(\"First Minima after First Peak:\", first_minima)\n",
    "print(\"Second Peak:\", second_peak)\n",
    "print(\"Second Minima after Second Peak:\", second_minima)\n"
   ]
  }
 ],
 "metadata": {
  "kernelspec": {
   "display_name": "base",
   "language": "python",
   "name": "python3"
  },
  "language_info": {
   "codemirror_mode": {
    "name": "ipython",
    "version": 3
   },
   "file_extension": ".py",
   "mimetype": "text/x-python",
   "name": "python",
   "nbconvert_exporter": "python",
   "pygments_lexer": "ipython3",
   "version": "3.8.8"
  },
  "orig_nbformat": 4
 },
 "nbformat": 4,
 "nbformat_minor": 2
}
